{
 "cells": [
  {
   "cell_type": "markdown",
   "metadata": {},
   "source": [
    "# IAPWS Implementation"
   ]
  },
  {
   "cell_type": "code",
   "execution_count": null,
   "metadata": {},
   "outputs": [],
   "source": [
    "import numpy as np\n",
    "from numpy import exp\n",
    "from matplotlib import pylab as plt\n",
    "%matplotlib inline"
   ]
  },
  {
   "cell_type": "code",
   "execution_count": null,
   "metadata": {},
   "outputs": [],
   "source": [
    "from iapws_boundaries import *\n",
    "from iapws97 import *\n",
    "from iapws_ice import *"
   ]
  },
  {
   "cell_type": "markdown",
   "metadata": {},
   "source": [
    "## The phase boundaries"
   ]
  },
  {
   "cell_type": "markdown",
   "metadata": {},
   "source": [
    "Plot the phase diagram:"
   ]
  },
  {
   "cell_type": "code",
   "execution_count": null,
   "metadata": {},
   "outputs": [],
   "source": [
    "plt.semilogy(triple_point[0],triple_point[1],'o')\n",
    "plt.semilogy(critical_point[0],critical_point[1],'o')\n",
    "\n",
    "for f,r in [\n",
    "    (vapor_pressure,(T_t,T_c)),\n",
    "    (melting_pressure_I,melting_pressure_range_I),\n",
    "    (melting_pressure_III,melting_pressure_range_III),\n",
    "    (melting_pressure_V,melting_pressure_range_V),\n",
    "    (melting_pressure_VI,melting_pressure_range_VI),\n",
    "    (melting_pressure_VII,melting_pressure_range_VII),\n",
    "    (sublimation_pressure,sublimation_pressure_range)\n",
    "]:\n",
    "    _ts = np.linspace(r[0],r[1])\n",
    "    plt.semilogy(_ts,f(_ts),'-')\n",
    "plt.xlim(100,900)\n",
    "plt.ylim(1,10.0e10)\n",
    "plt.xlabel('Temperature (K)')\n",
    "plt.ylabel('Pressure (Pa)')\n",
    "plt.text(120,1e3,'Ice I')\n",
    "plt.text(200,1e10,'Ices III, V, VI, VII')\n",
    "plt.text(400,1e3,'Gas')\n",
    "plt.text(400,1e7,'Liquid')\n",
    "plt.text(700,1e8,'Supercritical');\n",
    "plt.savefig('phase_diagram.png')"
   ]
  },
  {
   "cell_type": "markdown",
   "metadata": {},
   "source": [
    "# Manipulations\n",
    "\n",
    "To get the quantities we want, density and enthalpy, we need to perform manipulations on the Gibbs free energy, $g(T,p)$,\n",
    "\\begin{equation}\n",
    "\\rho = \\left( \\frac{\\partial g}{\\partial p} \\right)^{-1} \\\\\n",
    "h = g - T \\frac{\\partial g}{\\partial T}.\n",
    "\\end{equation}\n",
    "From the Helmholtz free energy, $f(\\rho,T)$, the formulae are:\n",
    "\\begin{equation}\n",
    "p = \\rho^2 \\frac{\\partial f}{\\partial \\rho} \\\\\n",
    "h = f - T \\frac{\\partial f}{\\partial T} + \\rho \\frac{\\partial f}{\\partial \\rho}\n",
    "\\end{equation}\n",
    "This is easy to do with a computer, see [algebraic_manipulations.py](algebraic_manipulations.py)"
   ]
  },
  {
   "cell_type": "markdown",
   "metadata": {},
   "source": [
    "# Testing\n",
    "\n",
    "The IAPWS provides sets of test values to make sure we typed everything in correctly."
   ]
  },
  {
   "cell_type": "code",
   "execution_count": null,
   "metadata": {},
   "outputs": [],
   "source": [
    "for T,p,h in [(300, 3e6, 0.115331273e6),\n",
    "              (300, 80e6, 0.184142828e6),\n",
    "              (500, 3e6, 0.975542239e6)]:\n",
    "    assert (enthalpy_region1(T,p) - h)/h < 1.0e-8\n",
    "\n",
    "for T,p,h in [(300, 0.0035e6, 0.254991145e7),\n",
    "              (700, 0.0035e6, 0.333568375e7),\n",
    "              (700, 30e6, 0.263149474e7)]:\n",
    "    assert (enthalpy_region2(T,p) - h)/h < 1.0e8\n",
    "    \n",
    "for T,rho,h in [(650, 500, 0.186343019e7),\n",
    "                (650, 200, 0.237512401e7),\n",
    "                (750, 500, 0.225868845e7)]:\n",
    "    assert (enthalpy_region3(T,rho) - h)/h < 1.0e-8\n",
    "    \n",
    "assert (enthalpy_ice_I(100,100e6)  + 0.483491635676e6)/1.0e6 < 1.0e-10\n",
    "assert density_ice_I(100,100e6) - 941.678203297 < 1.0e-10"
   ]
  },
  {
   "cell_type": "markdown",
   "metadata": {},
   "source": [
    "# The complete EOS surface"
   ]
  },
  {
   "cell_type": "code",
   "execution_count": null,
   "metadata": {},
   "outputs": [],
   "source": [
    "resolution = 50\n",
    "P_span_max = 100.0e6\n",
    "P_span_min = 100.0\n",
    "T_span_min = 150.0\n",
    "T_span_max = 1000.0"
   ]
  },
  {
   "cell_type": "markdown",
   "metadata": {},
   "source": [
    "## The phase regimes"
   ]
  },
  {
   "cell_type": "code",
   "execution_count": null,
   "metadata": {},
   "outputs": [],
   "source": [
    "# Liquid\n",
    "data_region1 = []\n",
    "p_melts = np.geomspace(melting_pressure_I(melting_pressure_range_I[1]),\n",
    "                       P_span_max,\n",
    "                       resolution)\n",
    "t_melts = melting_temperature_I(p_melts)\n",
    "for tm,pm in zip(t_melts,p_melts):\n",
    "    t_upper = min(623.15,saturation_temperature(pm))\n",
    "    tslice = np.linspace(tm,t_upper,resolution)\n",
    "    pslice = pm*np.ones(resolution)\n",
    "#     p_upper = vapor_pressure(t_vapor)\n",
    "    data_region1.append( np.vstack([tslice,pslice,density_region1(tslice,pm),enthalpy_region1(tslice,pm) ]).T )\n",
    "data_region1 = np.vstack(data_region1)"
   ]
  },
  {
   "cell_type": "code",
   "execution_count": null,
   "metadata": {},
   "outputs": [],
   "source": [
    "# gas\n",
    "data_region2 = []\n",
    "t_subls = np.linspace(200,T_t,resolution)\n",
    "p_subls = sublimation_pressure(t_subls)\n",
    "t_vapor = np.linspace(T_t,623.15,resolution)\n",
    "p_vapor = vapor_pressure(t_vapor)\n",
    "t_23 = np.linspace(623.15,900,resolution)\n",
    "p_23 = boundary_region23(t_23)\n",
    "for tm,pm in zip(np.r_[t_subls,t_vapor,t_23],\n",
    "                 np.r_[p_subls,p_vapor,p_23]):\n",
    "    tslice = np.linspace(tm,1000,resolution)\n",
    "    pslice = pm*np.ones(resolution)\n",
    "    data_region2.append( np.vstack([tslice,pslice,density_region2(tslice,pm),enthalpy_region2(tslice,pm), ]).T )\n",
    "data_region2 = np.vstack(data_region2)"
   ]
  },
  {
   "cell_type": "code",
   "execution_count": null,
   "metadata": {},
   "outputs": [],
   "source": [
    "# supercrit\n",
    "data_region3 = []\n",
    "ts = np.linspace(623.15,900,resolution)\n",
    "rho_upper = density_region1(623.15, P_span_max )\n",
    "for t in ts:\n",
    "    tslice = t*np.ones(resolution)\n",
    "    p_bound = boundary_region23(t)\n",
    "    rho_bound = density_region2(t,p_bound)\n",
    "    rhoslice = np.linspace(rho_bound,rho_upper,resolution)\n",
    "    pslice = pressure_region3(tslice,rhoslice)\n",
    "    hslice = enthalpy_region3(tslice,rhoslice)\n",
    "    data_region3.append( np.vstack([tslice,pslice,rhoslice,hslice ]).T )\n",
    "data_region3 = np.vstack(data_region3)"
   ]
  },
  {
   "cell_type": "code",
   "execution_count": null,
   "metadata": {},
   "outputs": [],
   "source": [
    "# Ice I\n",
    "data_ice_I = []\n",
    "# t_melts = np.linspace(melting_pressure_range_I[0],\n",
    "#                       melting_pressure_range_I[1],\n",
    "#                       resolution)\n",
    "# p_melts = melting_pressure_I(t_melts)\n",
    "p_melts = np.geomspace(melting_pressure_I(melting_pressure_range_I[0]),\n",
    "                       melting_pressure_I(melting_pressure_range_I[1]),\n",
    "                       resolution)\n",
    "t_melts = melting_temperature_I(p_melts)\n",
    "t_subls = np.linspace(T_span_min,T_t,resolution)\n",
    "p_subls = sublimation_pressure(t_subls)\n",
    "for tm,pm in zip(np.r_[t_melts,t_subls],np.r_[p_melts,p_subls]):\n",
    "    tslice = np.linspace(T_span_min,tm,resolution)\n",
    "    pslice = pm*np.ones(resolution)\n",
    "#     ps = np.linspace(pstart, pend, resolution)\n",
    "    data_ice_I.append( np.vstack([tslice,pslice,density_ice_I(tslice,pm),enthalpy_ice_I(tslice,pm) ]).T )\n",
    "data_ice_I = np.vstack(data_ice_I)"
   ]
  },
  {
   "cell_type": "markdown",
   "metadata": {},
   "source": [
    "## The equilibria"
   ]
  },
  {
   "cell_type": "code",
   "execution_count": null,
   "metadata": {},
   "outputs": [],
   "source": [
    "def equilibria_plane(ts,ps, rho1,h1, rho2,h2):\n",
    "    data = []\n",
    "    for tm,pm, rl,hl, rg,hg in zip(ts,ps, rho1,h1, rho2,h2):\n",
    "        tslice = tm*np.ones(resolution)\n",
    "        pslice = pm*np.ones(resolution)\n",
    "        rhoslice = rl + (rg-rl)*np.linspace(0,1,resolution)\n",
    "        hslice = hl + (hg-hl)*np.linspace(0,1,resolution)\n",
    "        data.append( np.vstack([tslice,pslice,rhoslice,hslice]).T )\n",
    "    return np.vstack(data)"
   ]
  },
  {
   "cell_type": "code",
   "execution_count": null,
   "metadata": {},
   "outputs": [],
   "source": [
    "# Liquid-gas\n",
    "t_vapor = np.linspace(T_t,T_c,resolution)\n",
    "p_vapor = vapor_pressure(t_vapor)\n",
    "rho_liquid = density_region1(t_vapor,p_vapor)\n",
    "h_liquid   = enthalpy_region1(t_vapor,p_vapor)\n",
    "rho_gas    = density_region2(t_vapor,p_vapor)\n",
    "h_gas      = enthalpy_region2(t_vapor,p_vapor)\n",
    "data_LG_equi = equilibria_plane(t_vapor,p_vapor,rho_liquid,h_liquid,rho_gas,h_gas)\n",
    "\n",
    "# Solid-gas\n",
    "rho_liquid = density_ice_I(t_subls,p_subls)\n",
    "h_liquid   = enthalpy_ice_I(t_subls,p_subls)\n",
    "rho_gas    = density_region2(t_subls,p_subls)\n",
    "h_gas      = enthalpy_region2(t_subls,p_subls)\n",
    "data_SG_equi = equilibria_plane(t_subls,p_subls,rho_liquid,h_liquid,rho_gas,h_gas)\n",
    "\n",
    "# Solid-liquid\n",
    "p_melts = np.geomspace(melting_pressure_I(melting_pressure_range_I[1]),\n",
    "                       P_span_max,\n",
    "                       resolution)\n",
    "t_melts = melting_temperature_I(p_melts)\n",
    "rho_liquid = density_region1(t_melts,p_melts)\n",
    "h_liquid   = enthalpy_region1(t_melts,p_melts)\n",
    "rho_gas    = density_ice_I(t_melts,p_melts)\n",
    "h_gas      = enthalpy_ice_I(t_melts,p_melts)\n",
    "data_SL_equi = equilibria_plane(t_melts,p_melts,rho_liquid,h_liquid,rho_gas,h_gas)\n"
   ]
  },
  {
   "cell_type": "markdown",
   "metadata": {},
   "source": [
    "# 3D Plots"
   ]
  },
  {
   "cell_type": "code",
   "execution_count": null,
   "metadata": {},
   "outputs": [],
   "source": [
    "import plotly\n",
    "import plotly.offline as py\n",
    "import plotly.graph_objs as go\n",
    "py.init_notebook_mode(connected=True)\n",
    "# plotly.offline.iplot()"
   ]
  },
  {
   "cell_type": "markdown",
   "metadata": {},
   "source": [
    "T p rho"
   ]
  },
  {
   "cell_type": "code",
   "execution_count": null,
   "metadata": {},
   "outputs": [],
   "source": [
    "macro = lambda D,c, **kwargs : go.Mesh3d(x=D[:,0],y=np.log(D[:,1]),z=D[:,2],color=c,opacity=0.50,**kwargs)\n",
    "macro = lambda D,c, **kwargs : go.Scatter3d(x=D[:,0],y=np.log(D[:,1]),z=D[:,2],surfacecolor=c,\n",
    "                                            mode='markers',marker={'size':2},**kwargs)\n",
    "\n",
    "plot_data = [\n",
    "    macro(data_ice_I,'red',     name='Ice'),\n",
    "    macro(data_region1,'blue',  name='Liquid'),\n",
    "    macro(data_region2,'yellow', name='Gas'),\n",
    "    macro(data_region3,'green', name='Supercritical'),\n",
    "    \n",
    "    macro(data_LG_equi,'gray', name='LG'),\n",
    "    macro(data_SL_equi,'gray', name='SL'),\n",
    "    macro(data_SG_equi,'gray', name='SG'),\n",
    "\n",
    "# go.Scatter3d(x=data_region3[:,0],y=np.log(data_region3[:,1]),z=data_region3[:,2]),\n",
    "    go.Scatter3d(x=[T_t,T_t],y=np.log([p_t,p_t]),z=[0,1000],mode='lines',line={'width':15},name='Triple pt')\n",
    "]\n",
    "layout = go.Layout(scene=dict(\n",
    "    xaxis=dict(\n",
    "        title='T',\n",
    "    ),\n",
    "    yaxis=dict(\n",
    "        title='log(p)'\n",
    "    ),\n",
    "    zaxis=dict(\n",
    "        title='rho'\n",
    "    )\n",
    "))\n",
    "fig = go.Figure(data=plot_data,layout=layout)\n",
    "py.plot(fig,filename='figures/water_eos.html')\n",
    "# plotly.io.write_image(fig, 'figures/water_eos.png')"
   ]
  },
  {
   "cell_type": "markdown",
   "metadata": {},
   "source": [
    "T p h"
   ]
  },
  {
   "cell_type": "code",
   "execution_count": null,
   "metadata": {},
   "outputs": [],
   "source": [
    "macro = lambda D,c, **kwargs : go.Mesh3d(x=D[:,0],y=np.log(D[:,1]),z=D[:,2],color=c,opacity=0.50,**kwargs)\n",
    "macro = lambda D,c, **kwargs : go.Scatter3d(x=D[:,0],y=np.log(D[:,1]),z=D[:,3],surfacecolor=c,\n",
    "                                            mode='markers',marker={'size':2},**kwargs)\n",
    "\n",
    "plot_data = [\n",
    "    macro(data_ice_I,'red',     name='Ice'),\n",
    "    macro(data_region1,'blue',  name='Liquid'),\n",
    "    macro(data_region2,'yellow', name='Gas'),\n",
    "    macro(data_region3,'green', name='Supercritical'),\n",
    "    \n",
    "    macro(data_LG_equi,'gray', name='LG'),\n",
    "    macro(data_SL_equi,'gray', name='SL'),\n",
    "    macro(data_SG_equi,'gray', name='SG'),\n",
    "\n",
    "# go.Scatter3d(x=data_region3[:,0],y=np.log(data_region3[:,1]),z=data_region3[:,2]),\n",
    "    go.Scatter3d(x=[T_t,T_t],y=np.log([p_t,p_t]),z=[0,1000],mode='lines',line={'width':15},name='Triple pt')\n",
    "]\n",
    "layout = go.Layout(scene=dict(\n",
    "    xaxis=dict(\n",
    "        title='T',\n",
    "    ),\n",
    "    yaxis=dict(\n",
    "        title='log(p)'\n",
    "    ),\n",
    "    zaxis=dict(\n",
    "        title='rho'\n",
    "    )\n",
    "))\n",
    "fig = go.Figure(data=plot_data,layout=layout)\n",
    "py.plot(fig,filename='figures/water_enthalpy.html')"
   ]
  },
  {
   "cell_type": "markdown",
   "metadata": {},
   "source": [
    "# Save the surface to a file"
   ]
  },
  {
   "cell_type": "code",
   "execution_count": null,
   "metadata": {},
   "outputs": [],
   "source": [
    "stacked_data = np.vstack([\n",
    "    data_ice_I,\n",
    "    data_region1,\n",
    "    data_region2,\n",
    "    data_region3,\n",
    "    data_LG_equi,\n",
    "    data_SL_equi,\n",
    "    data_SG_equi,\n",
    "])\n",
    "np.savetxt('water_iapws.csv',stacked_data,\n",
    "           delimiter=',',header='T,p,rho,h',comments='')"
   ]
  }
 ],
 "metadata": {
  "kernelspec": {
   "display_name": "Python 2",
   "language": "python",
   "name": "python2"
  },
  "language_info": {
   "codemirror_mode": {
    "name": "ipython",
    "version": 3
   },
   "file_extension": ".py",
   "mimetype": "text/x-python",
   "name": "python",
   "nbconvert_exporter": "python",
   "pygments_lexer": "ipython3",
   "version": "3.7.0"
  }
 },
 "nbformat": 4,
 "nbformat_minor": 2
}
